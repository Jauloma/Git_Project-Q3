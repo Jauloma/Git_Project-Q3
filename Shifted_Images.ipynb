{
 "cells": [
  {
   "cell_type": "markdown",
   "id": "d940e9ce",
   "metadata": {},
   "source": [
    "## <center> Individual Project Week 12</center>\n",
    "\n",
    "### <i> By: Jacob Oriang Jaroya</i>"
   ]
  },
  {
   "cell_type": "markdown",
   "id": "0f75757b",
   "metadata": {},
   "source": [
    "For this week's individual project work, expectation is to try and improve the accuracy of the Stochastic Gradient Descent (SGD) Classifier by adding shifted images to the training set. \n",
    "\n",
    "This should help increase the amount of varied data we have for training the model and in turn improve the accuracy.  \n",
    "\n",
    "1. Load Data \n",
    "\n",
    "Load the MNIST dataset from sklearn \n",
    "\n",
    "2. Data Preparation \n",
    "\n",
    "Split the dataset into 2 parts: training set for training the model and test set for evaluating the model's performance on unseen data. \n",
    "\n",
    "3. Expand Training Data \n",
    "\n",
    "Then we use the functions from the previous group work to increase the size of the training set by adding new digits with values that have been shifted to the <b>left, right, up or down by 1 pixel.</b> \n",
    "\n",
    "<b>Note:</b> This process should result in the training set being 5 times more than it was previously. \n",
    "\n",
    "4. Modelling \n",
    "\n",
    "- Then we Train the model on the training set and use cross validation to evaluate the model's training performance. \n",
    "\n",
    "- Plot a confusion matrix to visualise the model's prediction performance for <i>each of the digit classes</i> in the dataset \n",
    "\n",
    "- Test the accuracy of your model on unseen data and evaluate its performance by cross validating the model. "
   ]
  },
  {
   "cell_type": "code",
   "execution_count": 1,
   "id": "70a6a0dc",
   "metadata": {},
   "outputs": [],
   "source": [
    "import numpy as np\n",
    "import pandas as pd \n",
    "from sklearn.datasets import fetch_openml \n",
    "import matplotlib as mpl\n",
    "import matplotlib.pyplot as plt"
   ]
  },
  {
   "cell_type": "code",
   "execution_count": 2,
   "id": "b0a32776",
   "metadata": {},
   "outputs": [],
   "source": [
    "mnist = pd.read_parquet('mnist_784.parquet')"
   ]
  },
  {
   "cell_type": "code",
   "execution_count": 3,
   "id": "008b10a8",
   "metadata": {},
   "outputs": [],
   "source": [
    "# Split the dataframe into X(features) and y(labels)\n",
    "X = mnist.drop('class', axis=1)\n",
    "y = mnist['class']"
   ]
  },
  {
   "cell_type": "code",
   "execution_count": 4,
   "id": "7513aa0b",
   "metadata": {},
   "outputs": [],
   "source": [
    "# Split the data into X_train, X_test, y_train, y_test\n",
    "X_train = X[:60000]\n",
    "y_train = y[:60000]\n",
    "X_test = X[60000:]\n",
    "y_test = y[60000:]"
   ]
  },
  {
   "cell_type": "code",
   "execution_count": 5,
   "id": "7d83698f",
   "metadata": {},
   "outputs": [
    {
     "data": {
      "text/html": [
       "<div>\n",
       "<style scoped>\n",
       "    .dataframe tbody tr th:only-of-type {\n",
       "        vertical-align: middle;\n",
       "    }\n",
       "\n",
       "    .dataframe tbody tr th {\n",
       "        vertical-align: top;\n",
       "    }\n",
       "\n",
       "    .dataframe thead th {\n",
       "        text-align: right;\n",
       "    }\n",
       "</style>\n",
       "<table border=\"1\" class=\"dataframe\">\n",
       "  <thead>\n",
       "    <tr style=\"text-align: right;\">\n",
       "      <th></th>\n",
       "      <th>pixel1</th>\n",
       "      <th>pixel2</th>\n",
       "      <th>pixel3</th>\n",
       "      <th>pixel4</th>\n",
       "      <th>pixel5</th>\n",
       "      <th>pixel6</th>\n",
       "      <th>pixel7</th>\n",
       "      <th>pixel8</th>\n",
       "      <th>pixel9</th>\n",
       "      <th>pixel10</th>\n",
       "      <th>...</th>\n",
       "      <th>pixel775</th>\n",
       "      <th>pixel776</th>\n",
       "      <th>pixel777</th>\n",
       "      <th>pixel778</th>\n",
       "      <th>pixel779</th>\n",
       "      <th>pixel780</th>\n",
       "      <th>pixel781</th>\n",
       "      <th>pixel782</th>\n",
       "      <th>pixel783</th>\n",
       "      <th>pixel784</th>\n",
       "    </tr>\n",
       "  </thead>\n",
       "  <tbody>\n",
       "    <tr>\n",
       "      <th>0</th>\n",
       "      <td>0.0</td>\n",
       "      <td>0.0</td>\n",
       "      <td>0.0</td>\n",
       "      <td>0.0</td>\n",
       "      <td>0.0</td>\n",
       "      <td>0.0</td>\n",
       "      <td>0.0</td>\n",
       "      <td>0.0</td>\n",
       "      <td>0.0</td>\n",
       "      <td>0.0</td>\n",
       "      <td>...</td>\n",
       "      <td>0.0</td>\n",
       "      <td>0.0</td>\n",
       "      <td>0.0</td>\n",
       "      <td>0.0</td>\n",
       "      <td>0.0</td>\n",
       "      <td>0.0</td>\n",
       "      <td>0.0</td>\n",
       "      <td>0.0</td>\n",
       "      <td>0.0</td>\n",
       "      <td>0.0</td>\n",
       "    </tr>\n",
       "    <tr>\n",
       "      <th>1</th>\n",
       "      <td>0.0</td>\n",
       "      <td>0.0</td>\n",
       "      <td>0.0</td>\n",
       "      <td>0.0</td>\n",
       "      <td>0.0</td>\n",
       "      <td>0.0</td>\n",
       "      <td>0.0</td>\n",
       "      <td>0.0</td>\n",
       "      <td>0.0</td>\n",
       "      <td>0.0</td>\n",
       "      <td>...</td>\n",
       "      <td>0.0</td>\n",
       "      <td>0.0</td>\n",
       "      <td>0.0</td>\n",
       "      <td>0.0</td>\n",
       "      <td>0.0</td>\n",
       "      <td>0.0</td>\n",
       "      <td>0.0</td>\n",
       "      <td>0.0</td>\n",
       "      <td>0.0</td>\n",
       "      <td>0.0</td>\n",
       "    </tr>\n",
       "    <tr>\n",
       "      <th>2</th>\n",
       "      <td>0.0</td>\n",
       "      <td>0.0</td>\n",
       "      <td>0.0</td>\n",
       "      <td>0.0</td>\n",
       "      <td>0.0</td>\n",
       "      <td>0.0</td>\n",
       "      <td>0.0</td>\n",
       "      <td>0.0</td>\n",
       "      <td>0.0</td>\n",
       "      <td>0.0</td>\n",
       "      <td>...</td>\n",
       "      <td>0.0</td>\n",
       "      <td>0.0</td>\n",
       "      <td>0.0</td>\n",
       "      <td>0.0</td>\n",
       "      <td>0.0</td>\n",
       "      <td>0.0</td>\n",
       "      <td>0.0</td>\n",
       "      <td>0.0</td>\n",
       "      <td>0.0</td>\n",
       "      <td>0.0</td>\n",
       "    </tr>\n",
       "    <tr>\n",
       "      <th>3</th>\n",
       "      <td>0.0</td>\n",
       "      <td>0.0</td>\n",
       "      <td>0.0</td>\n",
       "      <td>0.0</td>\n",
       "      <td>0.0</td>\n",
       "      <td>0.0</td>\n",
       "      <td>0.0</td>\n",
       "      <td>0.0</td>\n",
       "      <td>0.0</td>\n",
       "      <td>0.0</td>\n",
       "      <td>...</td>\n",
       "      <td>0.0</td>\n",
       "      <td>0.0</td>\n",
       "      <td>0.0</td>\n",
       "      <td>0.0</td>\n",
       "      <td>0.0</td>\n",
       "      <td>0.0</td>\n",
       "      <td>0.0</td>\n",
       "      <td>0.0</td>\n",
       "      <td>0.0</td>\n",
       "      <td>0.0</td>\n",
       "    </tr>\n",
       "    <tr>\n",
       "      <th>4</th>\n",
       "      <td>0.0</td>\n",
       "      <td>0.0</td>\n",
       "      <td>0.0</td>\n",
       "      <td>0.0</td>\n",
       "      <td>0.0</td>\n",
       "      <td>0.0</td>\n",
       "      <td>0.0</td>\n",
       "      <td>0.0</td>\n",
       "      <td>0.0</td>\n",
       "      <td>0.0</td>\n",
       "      <td>...</td>\n",
       "      <td>0.0</td>\n",
       "      <td>0.0</td>\n",
       "      <td>0.0</td>\n",
       "      <td>0.0</td>\n",
       "      <td>0.0</td>\n",
       "      <td>0.0</td>\n",
       "      <td>0.0</td>\n",
       "      <td>0.0</td>\n",
       "      <td>0.0</td>\n",
       "      <td>0.0</td>\n",
       "    </tr>\n",
       "  </tbody>\n",
       "</table>\n",
       "<p>5 rows × 784 columns</p>\n",
       "</div>"
      ],
      "text/plain": [
       "   pixel1  pixel2  pixel3  pixel4  pixel5  pixel6  pixel7  pixel8  pixel9  \\\n",
       "0     0.0     0.0     0.0     0.0     0.0     0.0     0.0     0.0     0.0   \n",
       "1     0.0     0.0     0.0     0.0     0.0     0.0     0.0     0.0     0.0   \n",
       "2     0.0     0.0     0.0     0.0     0.0     0.0     0.0     0.0     0.0   \n",
       "3     0.0     0.0     0.0     0.0     0.0     0.0     0.0     0.0     0.0   \n",
       "4     0.0     0.0     0.0     0.0     0.0     0.0     0.0     0.0     0.0   \n",
       "\n",
       "   pixel10  ...  pixel775  pixel776  pixel777  pixel778  pixel779  pixel780  \\\n",
       "0      0.0  ...       0.0       0.0       0.0       0.0       0.0       0.0   \n",
       "1      0.0  ...       0.0       0.0       0.0       0.0       0.0       0.0   \n",
       "2      0.0  ...       0.0       0.0       0.0       0.0       0.0       0.0   \n",
       "3      0.0  ...       0.0       0.0       0.0       0.0       0.0       0.0   \n",
       "4      0.0  ...       0.0       0.0       0.0       0.0       0.0       0.0   \n",
       "\n",
       "   pixel781  pixel782  pixel783  pixel784  \n",
       "0       0.0       0.0       0.0       0.0  \n",
       "1       0.0       0.0       0.0       0.0  \n",
       "2       0.0       0.0       0.0       0.0  \n",
       "3       0.0       0.0       0.0       0.0  \n",
       "4       0.0       0.0       0.0       0.0  \n",
       "\n",
       "[5 rows x 784 columns]"
      ]
     },
     "execution_count": 5,
     "metadata": {},
     "output_type": "execute_result"
    }
   ],
   "source": [
    "X_train.head()"
   ]
  },
  {
   "cell_type": "code",
   "execution_count": 6,
   "id": "1a4f6f3a",
   "metadata": {},
   "outputs": [
    {
     "data": {
      "text/html": [
       "<div>\n",
       "<style scoped>\n",
       "    .dataframe tbody tr th:only-of-type {\n",
       "        vertical-align: middle;\n",
       "    }\n",
       "\n",
       "    .dataframe tbody tr th {\n",
       "        vertical-align: top;\n",
       "    }\n",
       "\n",
       "    .dataframe thead th {\n",
       "        text-align: right;\n",
       "    }\n",
       "</style>\n",
       "<table border=\"1\" class=\"dataframe\">\n",
       "  <thead>\n",
       "    <tr style=\"text-align: right;\">\n",
       "      <th></th>\n",
       "      <th>pixel1</th>\n",
       "      <th>pixel2</th>\n",
       "      <th>pixel3</th>\n",
       "      <th>pixel4</th>\n",
       "      <th>pixel5</th>\n",
       "      <th>pixel6</th>\n",
       "      <th>pixel7</th>\n",
       "      <th>pixel8</th>\n",
       "      <th>pixel9</th>\n",
       "      <th>pixel10</th>\n",
       "      <th>...</th>\n",
       "      <th>pixel775</th>\n",
       "      <th>pixel776</th>\n",
       "      <th>pixel777</th>\n",
       "      <th>pixel778</th>\n",
       "      <th>pixel779</th>\n",
       "      <th>pixel780</th>\n",
       "      <th>pixel781</th>\n",
       "      <th>pixel782</th>\n",
       "      <th>pixel783</th>\n",
       "      <th>pixel784</th>\n",
       "    </tr>\n",
       "  </thead>\n",
       "  <tbody>\n",
       "    <tr>\n",
       "      <th>60000</th>\n",
       "      <td>0.0</td>\n",
       "      <td>0.0</td>\n",
       "      <td>0.0</td>\n",
       "      <td>0.0</td>\n",
       "      <td>0.0</td>\n",
       "      <td>0.0</td>\n",
       "      <td>0.0</td>\n",
       "      <td>0.0</td>\n",
       "      <td>0.0</td>\n",
       "      <td>0.0</td>\n",
       "      <td>...</td>\n",
       "      <td>0.0</td>\n",
       "      <td>0.0</td>\n",
       "      <td>0.0</td>\n",
       "      <td>0.0</td>\n",
       "      <td>0.0</td>\n",
       "      <td>0.0</td>\n",
       "      <td>0.0</td>\n",
       "      <td>0.0</td>\n",
       "      <td>0.0</td>\n",
       "      <td>0.0</td>\n",
       "    </tr>\n",
       "    <tr>\n",
       "      <th>60001</th>\n",
       "      <td>0.0</td>\n",
       "      <td>0.0</td>\n",
       "      <td>0.0</td>\n",
       "      <td>0.0</td>\n",
       "      <td>0.0</td>\n",
       "      <td>0.0</td>\n",
       "      <td>0.0</td>\n",
       "      <td>0.0</td>\n",
       "      <td>0.0</td>\n",
       "      <td>0.0</td>\n",
       "      <td>...</td>\n",
       "      <td>0.0</td>\n",
       "      <td>0.0</td>\n",
       "      <td>0.0</td>\n",
       "      <td>0.0</td>\n",
       "      <td>0.0</td>\n",
       "      <td>0.0</td>\n",
       "      <td>0.0</td>\n",
       "      <td>0.0</td>\n",
       "      <td>0.0</td>\n",
       "      <td>0.0</td>\n",
       "    </tr>\n",
       "    <tr>\n",
       "      <th>60002</th>\n",
       "      <td>0.0</td>\n",
       "      <td>0.0</td>\n",
       "      <td>0.0</td>\n",
       "      <td>0.0</td>\n",
       "      <td>0.0</td>\n",
       "      <td>0.0</td>\n",
       "      <td>0.0</td>\n",
       "      <td>0.0</td>\n",
       "      <td>0.0</td>\n",
       "      <td>0.0</td>\n",
       "      <td>...</td>\n",
       "      <td>0.0</td>\n",
       "      <td>0.0</td>\n",
       "      <td>0.0</td>\n",
       "      <td>0.0</td>\n",
       "      <td>0.0</td>\n",
       "      <td>0.0</td>\n",
       "      <td>0.0</td>\n",
       "      <td>0.0</td>\n",
       "      <td>0.0</td>\n",
       "      <td>0.0</td>\n",
       "    </tr>\n",
       "    <tr>\n",
       "      <th>60003</th>\n",
       "      <td>0.0</td>\n",
       "      <td>0.0</td>\n",
       "      <td>0.0</td>\n",
       "      <td>0.0</td>\n",
       "      <td>0.0</td>\n",
       "      <td>0.0</td>\n",
       "      <td>0.0</td>\n",
       "      <td>0.0</td>\n",
       "      <td>0.0</td>\n",
       "      <td>0.0</td>\n",
       "      <td>...</td>\n",
       "      <td>0.0</td>\n",
       "      <td>0.0</td>\n",
       "      <td>0.0</td>\n",
       "      <td>0.0</td>\n",
       "      <td>0.0</td>\n",
       "      <td>0.0</td>\n",
       "      <td>0.0</td>\n",
       "      <td>0.0</td>\n",
       "      <td>0.0</td>\n",
       "      <td>0.0</td>\n",
       "    </tr>\n",
       "    <tr>\n",
       "      <th>60004</th>\n",
       "      <td>0.0</td>\n",
       "      <td>0.0</td>\n",
       "      <td>0.0</td>\n",
       "      <td>0.0</td>\n",
       "      <td>0.0</td>\n",
       "      <td>0.0</td>\n",
       "      <td>0.0</td>\n",
       "      <td>0.0</td>\n",
       "      <td>0.0</td>\n",
       "      <td>0.0</td>\n",
       "      <td>...</td>\n",
       "      <td>0.0</td>\n",
       "      <td>0.0</td>\n",
       "      <td>0.0</td>\n",
       "      <td>0.0</td>\n",
       "      <td>0.0</td>\n",
       "      <td>0.0</td>\n",
       "      <td>0.0</td>\n",
       "      <td>0.0</td>\n",
       "      <td>0.0</td>\n",
       "      <td>0.0</td>\n",
       "    </tr>\n",
       "  </tbody>\n",
       "</table>\n",
       "<p>5 rows × 784 columns</p>\n",
       "</div>"
      ],
      "text/plain": [
       "       pixel1  pixel2  pixel3  pixel4  pixel5  pixel6  pixel7  pixel8  pixel9  \\\n",
       "60000     0.0     0.0     0.0     0.0     0.0     0.0     0.0     0.0     0.0   \n",
       "60001     0.0     0.0     0.0     0.0     0.0     0.0     0.0     0.0     0.0   \n",
       "60002     0.0     0.0     0.0     0.0     0.0     0.0     0.0     0.0     0.0   \n",
       "60003     0.0     0.0     0.0     0.0     0.0     0.0     0.0     0.0     0.0   \n",
       "60004     0.0     0.0     0.0     0.0     0.0     0.0     0.0     0.0     0.0   \n",
       "\n",
       "       pixel10  ...  pixel775  pixel776  pixel777  pixel778  pixel779  \\\n",
       "60000      0.0  ...       0.0       0.0       0.0       0.0       0.0   \n",
       "60001      0.0  ...       0.0       0.0       0.0       0.0       0.0   \n",
       "60002      0.0  ...       0.0       0.0       0.0       0.0       0.0   \n",
       "60003      0.0  ...       0.0       0.0       0.0       0.0       0.0   \n",
       "60004      0.0  ...       0.0       0.0       0.0       0.0       0.0   \n",
       "\n",
       "       pixel780  pixel781  pixel782  pixel783  pixel784  \n",
       "60000       0.0       0.0       0.0       0.0       0.0  \n",
       "60001       0.0       0.0       0.0       0.0       0.0  \n",
       "60002       0.0       0.0       0.0       0.0       0.0  \n",
       "60003       0.0       0.0       0.0       0.0       0.0  \n",
       "60004       0.0       0.0       0.0       0.0       0.0  \n",
       "\n",
       "[5 rows x 784 columns]"
      ]
     },
     "execution_count": 6,
     "metadata": {},
     "output_type": "execute_result"
    }
   ],
   "source": [
    "X_test.head()"
   ]
  },
  {
   "cell_type": "code",
   "execution_count": 7,
   "id": "8b10eea2",
   "metadata": {},
   "outputs": [
    {
     "data": {
      "text/plain": [
       "0    5\n",
       "1    0\n",
       "2    4\n",
       "3    1\n",
       "4    9\n",
       "Name: class, dtype: category\n",
       "Categories (10, object): ['0', '1', '2', '3', ..., '6', '7', '8', '9']"
      ]
     },
     "execution_count": 7,
     "metadata": {},
     "output_type": "execute_result"
    }
   ],
   "source": [
    "y_train.head()"
   ]
  },
  {
   "cell_type": "code",
   "execution_count": 8,
   "id": "7bc640c6",
   "metadata": {},
   "outputs": [
    {
     "data": {
      "text/plain": [
       "60000    7\n",
       "60001    2\n",
       "60002    1\n",
       "60003    0\n",
       "60004    4\n",
       "Name: class, dtype: category\n",
       "Categories (10, object): ['0', '1', '2', '3', ..., '6', '7', '8', '9']"
      ]
     },
     "execution_count": 8,
     "metadata": {},
     "output_type": "execute_result"
    }
   ],
   "source": [
    "y_test.head()"
   ]
  },
  {
   "cell_type": "code",
   "execution_count": 9,
   "id": "3ae7c9fc",
   "metadata": {},
   "outputs": [
    {
     "data": {
      "text/plain": [
       "((60000, 784), (60000,), (10000, 784), (10000,))"
      ]
     },
     "execution_count": 9,
     "metadata": {},
     "output_type": "execute_result"
    }
   ],
   "source": [
    "X_train.shape, y_train.shape, X_test.shape, y_test.shape"
   ]
  },
  {
   "cell_type": "code",
   "execution_count": 15,
   "id": "92e69e21",
   "metadata": {},
   "outputs": [
    {
     "name": "stderr",
     "output_type": "stream",
     "text": [
      "C:\\Users\\Jaroya\\AppData\\Local\\Temp\\ipykernel_5372\\3800726259.py:7: DeprecationWarning: Please use `shift` from the `scipy.ndimage` namespace, the `scipy.ndimage.interpolation` namespace is deprecated.\n",
      "  from scipy.ndimage.interpolation import shift\n"
     ]
    }
   ],
   "source": [
    "first_image = mnist.iloc[0, :-1].astype('float').values\n",
    "\n",
    "# Convert the pixel values to a numpy array and reshape it to 28x28\n",
    "image = first_image.reshape(28, 28)\n",
    "\n",
    "\n",
    "from scipy.ndimage.interpolation import shift\n",
    "\n",
    "def shift_image_up(image, shift_pixels=1):\n",
    "    \"\"\"Shift an image up by the specified number of pixels\"\"\"\n",
    "    shift_vector = [-shift_pixels, 0]  # shift up by the given number of pixels\n",
    "    shifted_image = shift(image, shift_vector, cval=0)  # fill empty pixels with 0 (black)\n",
    "    return shifted_image\n",
    "\n",
    "\n",
    "# Define the shift_image_up function (from above)\n",
    "\n",
    "# Shift the image up by 1 pixel using the shift_image_up function\n",
    "image_shifted1 = shift_image_up(image, shift_pixels=1)\n",
    "\n",
    "\n",
    "def shift_image_down(image, shift_pixels=1):\n",
    "    \"\"\"Shift an image down by the specified number of pixels\"\"\"\n",
    "    shift_vector = [shift_pixels, 0]  # shift down by the given number of pixels\n",
    "    shifted_image = shift(image, shift_vector, cval=0)  # fill empty pixels with 0 (black)\n",
    "    return shifted_image\n",
    "\n",
    "# Define the shift_image_down function\n",
    "\n",
    "# Shift the image down by 1 pixel using the shift_image_down function\n",
    "image_shifted2 = shift_image_down(image, shift_pixels=1)\n",
    "\n",
    "\n",
    "def shift_image_right(image, shift_pixels=1):\n",
    "    \"\"\"Shift an image to the right by the specified number of pixels\"\"\"\n",
    "    shift_vector = [0, shift_pixels]  # shift right by the given number of pixels\n",
    "    shifted_image = shift(image, shift_vector, cval=0)  # fill empty pixels with 0 (black)\n",
    "    return shifted_image\n",
    "\n",
    "# Define the shift_image_right function\n",
    "\n",
    "# Shift the image to the right by 1 pixel using the shift_image_right function\n",
    "image_shifted3 = shift_image_right(image, shift_pixels=1)\n",
    "\n",
    "\n",
    "def shift_image_left(image, shift_pixels=1):\n",
    "    \"\"\"Shift an image to the left by the specified number of pixels\"\"\"\n",
    "    shift_vector = [0, -shift_pixels]  # shift left by the given number of pixels\n",
    "    shifted_image = shift(image, shift_vector, cval=0)  # fill empty pixels with 0 (black)\n",
    "    return shifted_image\n",
    "\n",
    "# Define the shift_image_left function\n",
    "\n",
    "# Shift the image to the left by 1 pixel using the shift_image_left function\n",
    "image_shifted4 = shift_image_left(image, shift_pixels=1)               "
   ]
  },
  {
   "cell_type": "code",
   "execution_count": 19,
   "id": "b44d3d6d",
   "metadata": {},
   "outputs": [
    {
     "name": "stdout",
     "output_type": "stream",
     "text": [
      "(300000, 28, 28)\n",
      "(300000,)\n"
     ]
    }
   ],
   "source": [
    "# Create empty lists to hold the shifted images and labels\n",
    "shifted_images = []\n",
    "shifted_labels = []\n",
    "\n",
    "# Loop through the original images and labels\n",
    "for i in range(len(X_train)):\n",
    "    # Extract the image and label\n",
    "    image = X_train.iloc[i,:].values.reshape(28,28)\n",
    "    label = y_train[i]\n",
    "    \n",
    "    # Generate the shifted images\n",
    "    image_shifted1 = shift_image_up(image, shift_pixels=1)\n",
    "    image_shifted2 = shift_image_down(image, shift_pixels=1)\n",
    "    image_shifted3 = shift_image_right(image, shift_pixels=1)\n",
    "    image_shifted4 = shift_image_left(image, shift_pixels=1)\n",
    "    \n",
    "    # Append the original and shifted images to the list\n",
    "    shifted_images.extend([image, image_shifted1, image_shifted2, image_shifted3, image_shifted4])\n",
    "    \n",
    "    # Append the corresponding label to the list for each image\n",
    "    shifted_labels.extend([label]*5)\n",
    "    \n",
    "# Convert the lists to numpy arrays\n",
    "X_train_shifted = np.array(shifted_images)\n",
    "y_train_shifted = np.array(shifted_labels)\n",
    "\n",
    "# Check the shape of the new arrays\n",
    "print(X_train_shifted.shape)  # (300000, 784)\n",
    "print(y_train_shifted.shape)  # (300000,)"
   ]
  },
  {
   "cell_type": "code",
   "execution_count": 20,
   "id": "b0e7ceb9",
   "metadata": {},
   "outputs": [
    {
     "name": "stdout",
     "output_type": "stream",
     "text": [
      "(300000, 784)\n"
     ]
    }
   ],
   "source": [
    "X_train_shifted = X_train_shifted.reshape(-1, 28*28)\n",
    "print(X_train_shifted.shape)"
   ]
  },
  {
   "cell_type": "code",
   "execution_count": 23,
   "id": "97bdb8c1",
   "metadata": {},
   "outputs": [
    {
     "data": {
      "text/plain": [
       "((300000, 784), (300000,))"
      ]
     },
     "execution_count": 23,
     "metadata": {},
     "output_type": "execute_result"
    }
   ],
   "source": [
    "X_train_shifted.shape, y_train_shifted.shape"
   ]
  },
  {
   "cell_type": "code",
   "execution_count": 24,
   "id": "5e1d19f5",
   "metadata": {},
   "outputs": [],
   "source": [
    "from sklearn.linear_model import SGDClassifier\n",
    "\n",
    "sgd_clf = SGDClassifier(random_state=42)"
   ]
  },
  {
   "cell_type": "code",
   "execution_count": 25,
   "id": "ed6d4e46",
   "metadata": {},
   "outputs": [
    {
     "data": {
      "text/plain": [
       "SGDClassifier(random_state=42)"
      ]
     },
     "execution_count": 25,
     "metadata": {},
     "output_type": "execute_result"
    }
   ],
   "source": [
    "# Train the classifier on the shifted training data\n",
    "sgd_clf.fit(X_train_shifted, y_train_shifted)"
   ]
  },
  {
   "cell_type": "markdown",
   "id": "94bc1d33",
   "metadata": {},
   "source": [
    "#### Measuring Accuracy Using Cross-Validation\n",
    "A good way to evaluate a model is to use cross-validation.\n",
    "\n",
    "Let’s use the cross_val_score() function to evaluate the SGDClassifier model using K-fold cross-validation, with three folds.\n",
    "\n",
    "<b>Note:</b>\n",
    "\n",
    "K-fold cross validation means splitting the training set into K-folds (in this case, three), then making predictions and evaluating them on each fold using a model trained on the remaining folds"
   ]
  },
  {
   "cell_type": "code",
   "execution_count": 26,
   "id": "72ba69d2",
   "metadata": {},
   "outputs": [
    {
     "data": {
      "text/plain": [
       "array([0.79044, 0.80951, 0.81182])"
      ]
     },
     "execution_count": 26,
     "metadata": {},
     "output_type": "execute_result"
    }
   ],
   "source": [
    "from sklearn.model_selection import cross_val_score\n",
    "\n",
    "# Perform cross-validation\n",
    "y_train_pred = cross_val_score(sgd_clf, X_train_shifted, y_train_shifted, cv=3, scoring=\"accuracy\")\n",
    "y_train_pred"
   ]
  },
  {
   "cell_type": "markdown",
   "id": "70c2819a",
   "metadata": {},
   "source": [
    "#### Accuracy: We get bove 79% accuracy (ratio of correct predictions) on all cross-validation folds with Training data."
   ]
  },
  {
   "cell_type": "markdown",
   "id": "d1db9980",
   "metadata": {},
   "source": [
    "Just like the cross_val_score() function, cross_val_predict() performs K-fold cross-validation, but instead of returning the evaluation scores, it returns the predictions made on each test fold. \n",
    "- This means that you get a clean prediction for each instance in the training set (“clean” meaning that the prediction is made by a model that never saw the data during training)."
   ]
  },
  {
   "cell_type": "code",
   "execution_count": 27,
   "id": "541bf981",
   "metadata": {},
   "outputs": [],
   "source": [
    "from sklearn.model_selection import cross_val_predict\n",
    "\n",
    "y_train_pred = cross_val_predict(sgd_clf, X_train_shifted, y_train_shifted, cv=3)"
   ]
  },
  {
   "cell_type": "code",
   "execution_count": 49,
   "id": "35e89618",
   "metadata": {},
   "outputs": [
    {
     "data": {
      "image/png": "[encoded data removed]",
      "text/plain": [
       "<Figure size 640x480 with 2 Axes>"
      ]
     },
     "metadata": {},
     "output_type": "display_data"
    }
   ],
   "source": [
    "from sklearn.metrics import confusion_matrix\n",
    "\n",
    "# Compute the confusion matrix on the training data\n",
    "conf_mx = confusion_matrix(y_train_shifted, y_train_pred)\n",
    "\n",
    "# Plot the confusion matrix as an image\n",
    "plt.imshow(conf_mx, cmap=plt.cm.Blues)\n",
    "\n",
    "# Add axis labels and title\n",
    "plt.title('Confusion Matrix')\n",
    "plt.xlabel('Predicted Label')\n",
    "plt.ylabel('True Label')\n",
    "\n",
    "# Add colorbar\n",
    "plt.colorbar()\n",
    "\n",
    "# Add tick marks for labels\n",
    "tick_marks = np.arange(len(np.unique(y_train_shifted)))\n",
    "plt.xticks(tick_marks, np.unique(y_train_shifted))\n",
    "plt.yticks(tick_marks, np.unique(y_train_shifted))\n",
    "\n",
    "# Add text annotations for each cell\n",
    "for i in range(conf_mx.shape[0]):\n",
    "    for j in range(conf_mx.shape[1]):\n",
    "        plt.text(j, i, conf_mx[i, j], ha='center', va='center', color='pink')\n",
    "\n",
    "# Show the plot\n",
    "plt.show()\n"
   ]
  },
  {
   "cell_type": "markdown",
   "id": "8bbb74f1",
   "metadata": {},
   "source": [
    "#### Precision and Recall"
   ]
  },
  {
   "cell_type": "code",
   "execution_count": 30,
   "id": "2824bc81",
   "metadata": {},
   "outputs": [
    {
     "data": {
      "text/plain": [
       "0.8039233333333333"
      ]
     },
     "execution_count": 30,
     "metadata": {},
     "output_type": "execute_result"
    }
   ],
   "source": [
    "from sklearn.metrics import precision_score, recall_score\n",
    "\n",
    "precision_score(y_train_shifted, y_train_pred, average='micro')"
   ]
  },
  {
   "cell_type": "markdown",
   "id": "9a899c3a",
   "metadata": {},
   "source": [
    "From the above output, the \"micro\" average, calculates Precision Score globally by counting the total true positives, false negatives, and false positives: Here we get 80.4% precision."
   ]
  },
  {
   "cell_type": "code",
   "execution_count": 31,
   "id": "ea3b359a",
   "metadata": {},
   "outputs": [
    {
     "data": {
      "text/plain": [
       "0.8132825790980762"
      ]
     },
     "execution_count": 31,
     "metadata": {},
     "output_type": "execute_result"
    }
   ],
   "source": [
    "precision_score(y_train_shifted, y_train_pred, average='macro')"
   ]
  },
  {
   "cell_type": "markdown",
   "id": "8bc635aa",
   "metadata": {},
   "source": [
    "Alternatively as shown above, the \"macro\" average, calculates the Precision Score for each label and takes the unweighted mean: Here we get 81.3% precision."
   ]
  },
  {
   "cell_type": "code",
   "execution_count": 33,
   "id": "6094d6a3",
   "metadata": {},
   "outputs": [
    {
     "data": {
      "text/plain": [
       "0.8039233333333333"
      ]
     },
     "execution_count": 33,
     "metadata": {},
     "output_type": "execute_result"
    }
   ],
   "source": [
    "recall_score(y_train_shifted, y_train_pred,average='micro' )"
   ]
  },
  {
   "cell_type": "markdown",
   "id": "c8f7a175",
   "metadata": {},
   "source": [
    "The above code calculates the recall by counting the total true positives, false negatives, and false positives across all classes. Here recall stands at 80.4%."
   ]
  },
  {
   "cell_type": "code",
   "execution_count": 34,
   "id": "28899424",
   "metadata": {},
   "outputs": [
    {
     "data": {
      "text/plain": [
       "0.8017493023048902"
      ]
     },
     "execution_count": 34,
     "metadata": {},
     "output_type": "execute_result"
    }
   ],
   "source": [
    "recall_score(y_train_shifted, y_train_pred,average='macro' )"
   ]
  },
  {
   "cell_type": "markdown",
   "id": "66659846",
   "metadata": {},
   "source": [
    "The above code calculates the recall for each class separately and takes the unweighted mean across all classes. Here we get a recall of 80.2%."
   ]
  },
  {
   "cell_type": "markdown",
   "id": "1bd14147",
   "metadata": {},
   "source": [
    "#### NOTE:\n",
    "The choice of the average setting depends on the problem and what kind of metric aggregation wanted. The \"micro\" average can be useful if we want to give equal weight to each data point, while the \"macro\" average can be useful if we want to give equal weight to each class."
   ]
  },
  {
   "cell_type": "markdown",
   "id": "8ce63fce",
   "metadata": {},
   "source": [
    "#### F1 Score"
   ]
  },
  {
   "cell_type": "code",
   "execution_count": 36,
   "id": "99f6c1d5",
   "metadata": {},
   "outputs": [
    {
     "data": {
      "text/plain": [
       "0.8039233333333333"
      ]
     },
     "execution_count": 36,
     "metadata": {},
     "output_type": "execute_result"
    }
   ],
   "source": [
    "from sklearn.metrics import f1_score\n",
    "\n",
    "f1_score(y_train_shifted, y_train_pred, average='micro')"
   ]
  },
  {
   "cell_type": "markdown",
   "id": "37da6c6d",
   "metadata": {},
   "source": [
    "The above code calculates the F1 score by counting the total true positives, false negatives, and false positives across all classes. Here the F1 Score = 80.4%."
   ]
  },
  {
   "cell_type": "code",
   "execution_count": 37,
   "id": "23086ae1",
   "metadata": {},
   "outputs": [
    {
     "data": {
      "text/plain": [
       "0.7978812654203068"
      ]
     },
     "execution_count": 37,
     "metadata": {},
     "output_type": "execute_result"
    }
   ],
   "source": [
    "f1_score(y_train_shifted, y_train_pred, average='macro')"
   ]
  },
  {
   "cell_type": "markdown",
   "id": "77f7a724",
   "metadata": {},
   "source": [
    "Alternatively, to calculate the F1 score for each class we use the \"macro\" average. This will calculate the F1 score for each class separately and take the unweighted mean across all classes. Here the F1 Score = 79.8%."
   ]
  },
  {
   "cell_type": "markdown",
   "id": "3bcae520",
   "metadata": {},
   "source": [
    "#### NOTE:\n",
    "Just as we saw with <b>precision_score and recall_score</b>, the choice of the average setting depends on the problem and what kind of metric aggregation you want. The \"micro\" average can be useful if you want to give equal weight to each data point, while the \"macro\" average can be useful if you want to give equal weight to each class."
   ]
  },
  {
   "cell_type": "markdown",
   "id": "1bfff650",
   "metadata": {},
   "source": [
    "### Testing the model"
   ]
  },
  {
   "cell_type": "code",
   "execution_count": 38,
   "id": "fd1ac63d",
   "metadata": {},
   "outputs": [
    {
     "data": {
      "text/plain": [
       "array([0.82783443, 0.85448545, 0.8919892 ])"
      ]
     },
     "execution_count": 38,
     "metadata": {},
     "output_type": "execute_result"
    }
   ],
   "source": [
    "# Perform cross-validation on test data\n",
    "y_test_pred = cross_val_score(sgd_clf, X_test, y_test, cv=3, scoring=\"accuracy\")\n",
    "y_test_pred"
   ]
  },
  {
   "cell_type": "markdown",
   "id": "5b82f272",
   "metadata": {},
   "source": [
    "#### Accuracy: We get bove 82% accuracy (ratio of correct predictions) on all cross-validation folds with Test data as compared with 79% from Training data."
   ]
  },
  {
   "cell_type": "code",
   "execution_count": 39,
   "id": "d2e50e09",
   "metadata": {},
   "outputs": [],
   "source": [
    "y_test_pred = cross_val_predict(sgd_clf, X_test, y_test, cv=3)"
   ]
  },
  {
   "cell_type": "code",
   "execution_count": 50,
   "id": "4adf6dad",
   "metadata": {},
   "outputs": [
    {
     "data": {
      "image/png": "[encoded data removed]",
      "text/plain": [
       "<Figure size 640x480 with 2 Axes>"
      ]
     },
     "metadata": {},
     "output_type": "display_data"
    }
   ],
   "source": [
    "# Compute the confusion matrix on the test data\n",
    "test_conf_mx = confusion_matrix(y_test, y_test_pred)\n",
    "\n",
    "# Plot the confusion matrix as an image\n",
    "plt.imshow(test_conf_mx, cmap=plt.cm.Blues)\n",
    "\n",
    "# Add axis labels and title\n",
    "plt.title('Confusion Matrix')\n",
    "plt.xlabel('Predicted Label')\n",
    "plt.ylabel('True Label')\n",
    "\n",
    "# Add colorbar\n",
    "plt.colorbar()\n",
    "\n",
    "# Add tick marks for labels\n",
    "tick_marks = np.arange(len(np.unique(y_test)))\n",
    "plt.xticks(tick_marks, np.unique(y_test))\n",
    "plt.yticks(tick_marks, np.unique(y_test))\n",
    "\n",
    "# Add text annotations for each cell\n",
    "for i in range(test_conf_mx.shape[0]):\n",
    "    for j in range(test_conf_mx.shape[1]):\n",
    "        plt.text(j, i, test_conf_mx[i, j], ha='center', va='center', color='pink')\n",
    "\n",
    "# Show the plot\n",
    "plt.show()"
   ]
  },
  {
   "cell_type": "markdown",
   "id": "54f7c9c9",
   "metadata": {},
   "source": [
    "#### Precision and Recall on Test data"
   ]
  },
  {
   "cell_type": "code",
   "execution_count": 42,
   "id": "c5154a84",
   "metadata": {},
   "outputs": [
    {
     "data": {
      "text/plain": [
       "0.8581"
      ]
     },
     "execution_count": 42,
     "metadata": {},
     "output_type": "execute_result"
    }
   ],
   "source": [
    "precision_score(y_test, y_test_pred, average='micro')"
   ]
  },
  {
   "cell_type": "markdown",
   "id": "6c587a0b",
   "metadata": {},
   "source": [
    "The above code calculates the recall by counting the total true positives, false negatives, and false positives across all classes. Here recall stands at 85.8% compared with 80.4% from the Training data."
   ]
  },
  {
   "cell_type": "code",
   "execution_count": 43,
   "id": "b3ee0b42",
   "metadata": {},
   "outputs": [
    {
     "data": {
      "text/plain": [
       "0.8562058741120293"
      ]
     },
     "execution_count": 43,
     "metadata": {},
     "output_type": "execute_result"
    }
   ],
   "source": [
    "recall_score(y_test, y_test_pred, average='macro')"
   ]
  },
  {
   "cell_type": "markdown",
   "id": "e416bf9c",
   "metadata": {},
   "source": [
    "The above code calculates the recall for each class separately and takes the unweighted mean across all classes. Here we get a recall of 85.6% compared with 80.2% from the Training data."
   ]
  },
  {
   "cell_type": "markdown",
   "id": "7778741f",
   "metadata": {},
   "source": [
    "#### F1 Score on Test data"
   ]
  },
  {
   "cell_type": "code",
   "execution_count": 44,
   "id": "83254a6d",
   "metadata": {},
   "outputs": [
    {
     "data": {
      "text/plain": [
       "0.8581"
      ]
     },
     "execution_count": 44,
     "metadata": {},
     "output_type": "execute_result"
    }
   ],
   "source": [
    "f1_score(y_test, y_test_pred, average='micro')"
   ]
  },
  {
   "cell_type": "markdown",
   "id": "95e50d58",
   "metadata": {},
   "source": [
    "The above code calculates the F1 score by counting the total true positives, false negatives, and false positives across all classes. Here the F1 Score = 85.8% compared with 80.4% from the Training data."
   ]
  },
  {
   "cell_type": "code",
   "execution_count": 45,
   "id": "4e503cdf",
   "metadata": {},
   "outputs": [
    {
     "data": {
      "text/plain": [
       "0.8567429737281635"
      ]
     },
     "execution_count": 45,
     "metadata": {},
     "output_type": "execute_result"
    }
   ],
   "source": [
    "f1_score(y_test, y_test_pred, average='macro')"
   ]
  },
  {
   "cell_type": "markdown",
   "id": "5210c75e",
   "metadata": {},
   "source": [
    "Alternatively, to calculate the F1 score for each class we use the \"macro\" average. This will calculate the F1 score for each class separately and take the unweighted mean across all classes. Here the F1 Score = 85.7% compared with 79.8% from the Training data."
   ]
  },
  {
   "cell_type": "markdown",
   "id": "c329614e",
   "metadata": {},
   "source": [
    "### CONCLUSION:\n",
    "#### We can conclude that the model is performing better on the Test Set as compared with its performance on Training set."
   ]
  }
 ],
 "metadata": {
  "kernelspec": {
   "display_name": "Python 3 (ipykernel)",
   "language": "python",
   "name": "python3"
  },
  "language_info": {
   "codemirror_mode": {
    "name": "ipython",
    "version": 3
   },
   "file_extension": ".py",
   "mimetype": "text/x-python",
   "name": "python",
   "nbconvert_exporter": "python",
   "pygments_lexer": "ipython3",
   "version": "3.9.13"
  }
 },
 "nbformat": 4,
 "nbformat_minor": 5
}
